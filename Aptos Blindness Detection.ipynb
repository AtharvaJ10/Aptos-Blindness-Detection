{
 "cells": [
  {
   "cell_type": "code",
   "execution_count": 1,
   "metadata": {
    "_cell_guid": "b1076dfc-b9ad-4769-8c92-a6c4dae69d19",
    "_uuid": "8f2839f25d086af736a60e9eeb907d3b93b6e0e5"
   },
   "outputs": [
    {
     "name": "stdout",
     "output_type": "stream",
     "text": [
      "['train.csv', 'sample_submission.csv', 'test_images', 'train_images', 'test.csv']\n"
     ]
    }
   ],
   "source": [
    "# This Python 3 environment comes with many helpful analytics libraries installed\n",
    "# It is defined by the kaggle/python docker image: https://github.com/kaggle/docker-python\n",
    "# For example, here's several helpful packages to load in \n",
    "\n",
    "import numpy as np # linear algebra\n",
    "import pandas as pd # data processing, CSV file I/O (e.g. pd.read_csv)\n",
    "\n",
    "# Input data files are available in the \"../input/\" directory.\n",
    "# For example, running this (by clicking run or pressing Shift+Enter) will list the files in the input directory\n",
    "\n",
    "import os\n",
    "print(os.listdir(\"../input\"))\n",
    "\n",
    "# Any results you write to the current directory are saved as output."
   ]
  },
  {
   "cell_type": "code",
   "execution_count": 2,
   "metadata": {},
   "outputs": [
    {
     "data": {
      "text/plain": [
       "(2588, 1958)"
      ]
     },
     "execution_count": 2,
     "metadata": {},
     "output_type": "execute_result"
    }
   ],
   "source": [
    "from PIL import Image\n",
    "img = Image.open('../input/train_images/7b9d519cbd66.png')\n",
    "img.size"
   ]
  },
  {
   "cell_type": "code",
   "execution_count": 3,
   "metadata": {},
   "outputs": [],
   "source": [
    "train = pd.read_csv('../input/train.csv')\n",
    "test = pd.read_csv('../input/test.csv')"
   ]
  },
  {
   "cell_type": "code",
   "execution_count": 4,
   "metadata": {},
   "outputs": [
    {
     "data": {
      "text/html": [
       "<div>\n",
       "<style scoped>\n",
       "    .dataframe tbody tr th:only-of-type {\n",
       "        vertical-align: middle;\n",
       "    }\n",
       "\n",
       "    .dataframe tbody tr th {\n",
       "        vertical-align: top;\n",
       "    }\n",
       "\n",
       "    .dataframe thead th {\n",
       "        text-align: right;\n",
       "    }\n",
       "</style>\n",
       "<table border=\"1\" class=\"dataframe\">\n",
       "  <thead>\n",
       "    <tr style=\"text-align: right;\">\n",
       "      <th></th>\n",
       "      <th>id_code</th>\n",
       "      <th>diagnosis</th>\n",
       "    </tr>\n",
       "  </thead>\n",
       "  <tbody>\n",
       "    <tr>\n",
       "      <th>0</th>\n",
       "      <td>000c1434d8d7</td>\n",
       "      <td>2</td>\n",
       "    </tr>\n",
       "    <tr>\n",
       "      <th>1</th>\n",
       "      <td>001639a390f0</td>\n",
       "      <td>4</td>\n",
       "    </tr>\n",
       "    <tr>\n",
       "      <th>2</th>\n",
       "      <td>0024cdab0c1e</td>\n",
       "      <td>1</td>\n",
       "    </tr>\n",
       "    <tr>\n",
       "      <th>3</th>\n",
       "      <td>002c21358ce6</td>\n",
       "      <td>0</td>\n",
       "    </tr>\n",
       "    <tr>\n",
       "      <th>4</th>\n",
       "      <td>005b95c28852</td>\n",
       "      <td>0</td>\n",
       "    </tr>\n",
       "  </tbody>\n",
       "</table>\n",
       "</div>"
      ],
      "text/plain": [
       "        id_code  diagnosis\n",
       "0  000c1434d8d7          2\n",
       "1  001639a390f0          4\n",
       "2  0024cdab0c1e          1\n",
       "3  002c21358ce6          0\n",
       "4  005b95c28852          0"
      ]
     },
     "execution_count": 4,
     "metadata": {},
     "output_type": "execute_result"
    }
   ],
   "source": [
    "train.head()"
   ]
  },
  {
   "cell_type": "code",
   "execution_count": 5,
   "metadata": {},
   "outputs": [
    {
     "name": "stdout",
     "output_type": "stream",
     "text": [
      "<class 'pandas.core.frame.DataFrame'>\n",
      "RangeIndex: 3662 entries, 0 to 3661\n",
      "Data columns (total 2 columns):\n",
      "id_code      3662 non-null object\n",
      "diagnosis    3662 non-null int64\n",
      "dtypes: int64(1), object(1)\n",
      "memory usage: 57.3+ KB\n",
      "\n",
      "<class 'pandas.core.frame.DataFrame'>\n",
      "RangeIndex: 1928 entries, 0 to 1927\n",
      "Data columns (total 1 columns):\n",
      "id_code    1928 non-null object\n",
      "dtypes: object(1)\n",
      "memory usage: 15.1+ KB\n"
     ]
    }
   ],
   "source": [
    "train.info()\n",
    "print()\n",
    "test.info()"
   ]
  },
  {
   "cell_type": "code",
   "execution_count": 6,
   "metadata": {},
   "outputs": [],
   "source": [
    "import seaborn as sns\n",
    "import matplotlib.pyplot as plt\n",
    "%matplotlib inline"
   ]
  },
  {
   "cell_type": "code",
   "execution_count": 7,
   "metadata": {},
   "outputs": [
    {
     "data": {
      "text/plain": [
       "<matplotlib.axes._subplots.AxesSubplot at 0x7fbcd9256ba8>"
      ]
     },
     "execution_count": 7,
     "metadata": {},
     "output_type": "execute_result"
    },
    {
     "data": {
      "image/png": "[encoded data removed]",
      "text/plain": [
       "<Figure size 432x288 with 1 Axes>"
      ]
     },
     "metadata": {
      "needs_background": "light"
     },
     "output_type": "display_data"
    }
   ],
   "source": [
    "sns.countplot(train['diagnosis'])"
   ]
  },
  {
   "cell_type": "code",
   "execution_count": 8,
   "metadata": {},
   "outputs": [
    {
     "name": "stderr",
     "output_type": "stream",
     "text": [
      "Using TensorFlow backend.\n"
     ]
    }
   ],
   "source": [
    "from keras.models import Sequential\n",
    "from keras.layers import Convolution2D,MaxPooling2D,Dense,Dropout,Flatten"
   ]
  },
  {
   "cell_type": "code",
   "execution_count": 9,
   "metadata": {},
   "outputs": [
    {
     "name": "stderr",
     "output_type": "stream",
     "text": [
      "/opt/conda/lib/python3.6/site-packages/ipykernel_launcher.py:3: UserWarning: Update your `Conv2D` call to the Keras 2 API: `Conv2D(32, (3, 3), input_shape=(96, 96, 3..., activation=\"relu\")`\n",
      "  This is separate from the ipykernel package so we can avoid doing imports until\n",
      "/opt/conda/lib/python3.6/site-packages/ipykernel_launcher.py:4: UserWarning: Update your `Conv2D` call to the Keras 2 API: `Conv2D(32, (3, 3), activation=\"relu\")`\n",
      "  after removing the cwd from sys.path.\n",
      "/opt/conda/lib/python3.6/site-packages/ipykernel_launcher.py:8: UserWarning: Update your `Conv2D` call to the Keras 2 API: `Conv2D(64, (3, 3), activation=\"relu\")`\n",
      "  \n",
      "/opt/conda/lib/python3.6/site-packages/ipykernel_launcher.py:9: UserWarning: Update your `Conv2D` call to the Keras 2 API: `Conv2D(64, (3, 3), activation=\"relu\")`\n",
      "  if __name__ == '__main__':\n",
      "/opt/conda/lib/python3.6/site-packages/ipykernel_launcher.py:15: UserWarning: Update your `Dense` call to the Keras 2 API: `Dense(activation=\"relu\", units=128)`\n",
      "  from ipykernel import kernelapp as app\n",
      "/opt/conda/lib/python3.6/site-packages/ipykernel_launcher.py:17: UserWarning: Update your `Dense` call to the Keras 2 API: `Dense(activation=\"softmax\", units=5)`\n"
     ]
    }
   ],
   "source": [
    "model = Sequential()\n",
    "\n",
    "model.add(Convolution2D(32,3,3,input_shape=(96,96,3),activation='relu'))\n",
    "model.add(Convolution2D(32,3,3,activation='relu'))\n",
    "model.add(MaxPooling2D(pool_size=(2,2)))\n",
    "#model.add(Dropout(0.25))\n",
    "\n",
    "model.add(Convolution2D(64,3,3,activation='relu'))\n",
    "model.add(Convolution2D(64,3,3,activation='relu'))\n",
    "model.add(MaxPooling2D(pool_size=(2,2)))\n",
    "#model.add(Dropout(0.25))\n",
    "\n",
    "model.add(Flatten())\n",
    "\n",
    "model.add(Dense(output_dim=128 , activation='relu'))\n",
    "model.add(Dropout(0.1))\n",
    "model.add(Dense(output_dim=5,activation='softmax'))"
   ]
  },
  {
   "cell_type": "code",
   "execution_count": 10,
   "metadata": {},
   "outputs": [],
   "source": [
    "model.compile(optimizer='adam',loss='categorical_crossentropy',metrics=['accuracy'])\n"
   ]
  },
  {
   "cell_type": "code",
   "execution_count": 11,
   "metadata": {},
   "outputs": [],
   "source": [
    "from keras.preprocessing.image import ImageDataGenerator\n",
    "\n",
    "train_datagen = ImageDataGenerator(rescale = 1./255 , \n",
    "                                   shear_range = 0.2 ,\n",
    "                                   zoom_range = 0.2 ,\n",
    "                                   horizontal_flip = True,\n",
    "                                  validation_split=0.2)\n",
    "\n"
   ]
  },
  {
   "cell_type": "code",
   "execution_count": 12,
   "metadata": {},
   "outputs": [],
   "source": [
    "train['id_code'] = train['id_code'].astype('str')+'.png'\n",
    "train['diagnosis'] = train['diagnosis'].astype('str')"
   ]
  },
  {
   "cell_type": "code",
   "execution_count": 13,
   "metadata": {},
   "outputs": [
    {
     "name": "stdout",
     "output_type": "stream",
     "text": [
      "Found 2930 validated image filenames belonging to 5 classes.\n",
      "Found 732 validated image filenames belonging to 5 classes.\n"
     ]
    }
   ],
   "source": [
    "train_gen=train_datagen.flow_from_dataframe(\n",
    "    dataframe=train,\n",
    "    directory=\"../input/train_images\",\n",
    "    x_col=\"id_code\",\n",
    "    y_col=\"diagnosis\",\n",
    "    batch_size=32,\n",
    "    shuffle=True,\n",
    "    class_mode=\"categorical\",\n",
    "    target_size=(96,96),\n",
    "    subset='training')\n",
    "\n",
    "test_gen=train_datagen.flow_from_dataframe(\n",
    "    dataframe=train,\n",
    "    directory=\"../input/train_images\",\n",
    "    x_col=\"id_code\",\n",
    "    y_col=\"diagnosis\",\n",
    "    batch_size=32,\n",
    "    shuffle=True,\n",
    "    class_mode=\"categorical\", \n",
    "    target_size=(96,96),\n",
    "    subset='validation')"
   ]
  },
  {
   "cell_type": "code",
   "execution_count": 14,
   "metadata": {},
   "outputs": [
    {
     "name": "stdout",
     "output_type": "stream",
     "text": [
      "Epoch 1/50\n",
      "92/92 [==============================] - 427s 5s/step - loss: 1.0562 - acc: 0.6098 - val_loss: 0.9377 - val_acc: 0.6680\n",
      "Epoch 2/50\n",
      "92/92 [==============================] - 381s 4s/step - loss: 0.8740 - acc: 0.6950 - val_loss: 0.8513 - val_acc: 0.7022\n",
      "Epoch 3/50\n",
      "92/92 [==============================] - 381s 4s/step - loss: 0.8227 - acc: 0.7167 - val_loss: 0.8253 - val_acc: 0.7022\n",
      "Epoch 4/50\n",
      "92/92 [==============================] - 377s 4s/step - loss: 0.8143 - acc: 0.7128 - val_loss: 0.8112 - val_acc: 0.7008\n",
      "Epoch 5/50\n",
      "92/92 [==============================] - 375s 4s/step - loss: 0.7974 - acc: 0.7233 - val_loss: 0.8361 - val_acc: 0.7090\n",
      "Epoch 6/50\n",
      "92/92 [==============================] - 372s 4s/step - loss: 0.7920 - acc: 0.7148 - val_loss: 0.8292 - val_acc: 0.7036\n",
      "Epoch 7/50\n",
      "92/92 [==============================] - 374s 4s/step - loss: 0.7849 - acc: 0.7239 - val_loss: 0.8115 - val_acc: 0.7090\n",
      "Epoch 8/50\n",
      "92/92 [==============================] - 377s 4s/step - loss: 0.7594 - acc: 0.7220 - val_loss: 0.8032 - val_acc: 0.7158\n",
      "Epoch 9/50\n",
      "92/92 [==============================] - 373s 4s/step - loss: 0.7652 - acc: 0.7230 - val_loss: 0.8100 - val_acc: 0.7145\n",
      "Epoch 10/50\n",
      "92/92 [==============================] - 372s 4s/step - loss: 0.7519 - acc: 0.7258 - val_loss: 0.7625 - val_acc: 0.7227\n",
      "Epoch 11/50\n",
      "92/92 [==============================] - 373s 4s/step - loss: 0.7257 - acc: 0.7360 - val_loss: 0.7903 - val_acc: 0.7186\n",
      "Epoch 12/50\n",
      "92/92 [==============================] - 375s 4s/step - loss: 0.7276 - acc: 0.7321 - val_loss: 0.7914 - val_acc: 0.7199\n",
      "Epoch 13/50\n",
      "92/92 [==============================] - 375s 4s/step - loss: 0.7098 - acc: 0.7404 - val_loss: 0.7468 - val_acc: 0.7227\n",
      "Epoch 14/50\n",
      "92/92 [==============================] - 373s 4s/step - loss: 0.7006 - acc: 0.7403 - val_loss: 0.7558 - val_acc: 0.7240\n",
      "Epoch 15/50\n",
      "92/92 [==============================] - 373s 4s/step - loss: 0.6895 - acc: 0.7494 - val_loss: 0.7721 - val_acc: 0.7145\n",
      "Epoch 16/50\n",
      "92/92 [==============================] - 379s 4s/step - loss: 0.6776 - acc: 0.7538 - val_loss: 0.7768 - val_acc: 0.7077\n",
      "Epoch 17/50\n",
      "92/92 [==============================] - 371s 4s/step - loss: 0.6838 - acc: 0.7503 - val_loss: 0.7595 - val_acc: 0.7172\n",
      "Epoch 18/50\n",
      "92/92 [==============================] - 372s 4s/step - loss: 0.6533 - acc: 0.7543 - val_loss: 0.8107 - val_acc: 0.7240\n",
      "Epoch 19/50\n",
      "92/92 [==============================] - 373s 4s/step - loss: 0.6472 - acc: 0.7608 - val_loss: 0.8558 - val_acc: 0.6954\n",
      "Epoch 20/50\n",
      "92/92 [==============================] - 374s 4s/step - loss: 0.6304 - acc: 0.7692 - val_loss: 0.7976 - val_acc: 0.7063\n",
      "Epoch 21/50\n",
      "92/92 [==============================] - 378s 4s/step - loss: 0.6230 - acc: 0.7663 - val_loss: 0.7612 - val_acc: 0.7240\n",
      "Epoch 22/50\n",
      "92/92 [==============================] - 373s 4s/step - loss: 0.5975 - acc: 0.7748 - val_loss: 0.7821 - val_acc: 0.7350\n",
      "Epoch 23/50\n",
      "92/92 [==============================] - 370s 4s/step - loss: 0.6102 - acc: 0.7751 - val_loss: 0.7917 - val_acc: 0.7158\n",
      "Epoch 24/50\n",
      "92/92 [==============================] - 370s 4s/step - loss: 0.5909 - acc: 0.7799 - val_loss: 0.7723 - val_acc: 0.7213\n",
      "Epoch 25/50\n",
      "92/92 [==============================] - 365s 4s/step - loss: 0.5705 - acc: 0.7874 - val_loss: 0.8120 - val_acc: 0.7186\n",
      "Epoch 26/50\n",
      "92/92 [==============================] - 366s 4s/step - loss: 0.5602 - acc: 0.7922 - val_loss: 0.7668 - val_acc: 0.7322\n",
      "Epoch 27/50\n",
      "92/92 [==============================] - 367s 4s/step - loss: 0.5335 - acc: 0.7943 - val_loss: 0.8528 - val_acc: 0.7172\n",
      "Epoch 28/50\n",
      "92/92 [==============================] - 366s 4s/step - loss: 0.5200 - acc: 0.8036 - val_loss: 0.8477 - val_acc: 0.7077\n",
      "Epoch 29/50\n",
      "92/92 [==============================] - 357s 4s/step - loss: 0.5287 - acc: 0.7926 - val_loss: 0.8206 - val_acc: 0.7131\n",
      "Epoch 30/50\n",
      "92/92 [==============================] - 353s 4s/step - loss: 0.4935 - acc: 0.8099 - val_loss: 0.8274 - val_acc: 0.7295\n",
      "Epoch 31/50\n",
      "92/92 [==============================] - 358s 4s/step - loss: 0.4873 - acc: 0.8228 - val_loss: 0.8355 - val_acc: 0.7172\n",
      "Epoch 32/50\n",
      "92/92 [==============================] - 357s 4s/step - loss: 0.4713 - acc: 0.8255 - val_loss: 0.8650 - val_acc: 0.7377\n",
      "Epoch 33/50\n",
      "92/92 [==============================] - 364s 4s/step - loss: 0.4861 - acc: 0.8147 - val_loss: 0.8644 - val_acc: 0.7077\n",
      "Epoch 34/50\n",
      "92/92 [==============================] - 362s 4s/step - loss: 0.4647 - acc: 0.8238 - val_loss: 0.9670 - val_acc: 0.7145\n",
      "Epoch 35/50\n",
      "92/92 [==============================] - 365s 4s/step - loss: 0.4733 - acc: 0.8268 - val_loss: 0.8627 - val_acc: 0.7186\n",
      "Epoch 36/50\n",
      "92/92 [==============================] - 372s 4s/step - loss: 0.4341 - acc: 0.8379 - val_loss: 0.9229 - val_acc: 0.7158\n",
      "Epoch 37/50\n",
      "92/92 [==============================] - 376s 4s/step - loss: 0.4233 - acc: 0.8400 - val_loss: 0.8886 - val_acc: 0.7199\n",
      "Epoch 38/50\n",
      "92/92 [==============================] - 375s 4s/step - loss: 0.4101 - acc: 0.8459 - val_loss: 0.9950 - val_acc: 0.7227\n",
      "Epoch 39/50\n",
      "92/92 [==============================] - 377s 4s/step - loss: 0.4017 - acc: 0.8464 - val_loss: 1.0131 - val_acc: 0.7022\n",
      "Epoch 40/50\n",
      "92/92 [==============================] - 376s 4s/step - loss: 0.3922 - acc: 0.8503 - val_loss: 1.0803 - val_acc: 0.7199\n",
      "Epoch 41/50\n",
      "92/92 [==============================] - 377s 4s/step - loss: 0.3916 - acc: 0.8494 - val_loss: 1.0071 - val_acc: 0.6995\n",
      "Epoch 42/50\n",
      "92/92 [==============================] - 377s 4s/step - loss: 0.3744 - acc: 0.8622 - val_loss: 1.0339 - val_acc: 0.7240\n",
      "Epoch 43/50\n",
      "92/92 [==============================] - 377s 4s/step - loss: 0.3527 - acc: 0.8726 - val_loss: 1.1004 - val_acc: 0.6940\n",
      "Epoch 44/50\n",
      "92/92 [==============================] - 379s 4s/step - loss: 0.3589 - acc: 0.8637 - val_loss: 1.0935 - val_acc: 0.6940\n",
      "Epoch 45/50\n",
      "92/92 [==============================] - 375s 4s/step - loss: 0.3472 - acc: 0.8697 - val_loss: 1.1265 - val_acc: 0.7199\n",
      "Epoch 46/50\n",
      "92/92 [==============================] - 382s 4s/step - loss: 0.3410 - acc: 0.8763 - val_loss: 1.1378 - val_acc: 0.6981\n",
      "Epoch 47/50\n",
      "92/92 [==============================] - 381s 4s/step - loss: 0.3245 - acc: 0.8772 - val_loss: 1.0252 - val_acc: 0.7227\n",
      "Epoch 48/50\n",
      "92/92 [==============================] - 378s 4s/step - loss: 0.3069 - acc: 0.8821 - val_loss: 1.1848 - val_acc: 0.6926\n",
      "Epoch 49/50\n",
      "92/92 [==============================] - 383s 4s/step - loss: 0.2997 - acc: 0.8915 - val_loss: 1.1655 - val_acc: 0.7213\n",
      "Epoch 50/50\n",
      "92/92 [==============================] - 378s 4s/step - loss: 0.2916 - acc: 0.8883 - val_loss: 1.1775 - val_acc: 0.7186\n"
     ]
    },
    {
     "data": {
      "text/plain": [
       "<keras.callbacks.History at 0x7fbcdbb7deb8>"
      ]
     },
     "execution_count": 14,
     "metadata": {},
     "output_type": "execute_result"
    }
   ],
   "source": [
    "model.fit_generator(generator=train_gen,              \n",
    "                    steps_per_epoch=len(train_gen),\n",
    "                    validation_data=test_gen,                    \n",
    "                    validation_steps=len(test_gen),\n",
    "                    epochs=50,\n",
    "                    use_multiprocessing = True,\n",
    "                    verbose=1)"
   ]
  },
  {
   "cell_type": "code",
   "execution_count": 26,
   "metadata": {},
   "outputs": [],
   "source": [
    "test = pd.read_csv('../input/sample_submission.csv')"
   ]
  },
  {
   "cell_type": "code",
   "execution_count": 28,
   "metadata": {},
   "outputs": [],
   "source": [
    "test_datagen = ImageDataGenerator(rescale = 1./255)"
   ]
  },
  {
   "cell_type": "code",
   "execution_count": 29,
   "metadata": {},
   "outputs": [],
   "source": [
    "test['id_code'] = test['id_code'].astype(str)+'.png'"
   ]
  },
  {
   "cell_type": "code",
   "execution_count": 30,
   "metadata": {},
   "outputs": [
    {
     "name": "stdout",
     "output_type": "stream",
     "text": [
      "Found 1928 validated image filenames.\n"
     ]
    }
   ],
   "source": [
    "submission=test_datagen.flow_from_dataframe(\n",
    "    dataframe=test,\n",
    "    directory=\"../input/test_images\",\n",
    "    x_col=\"id_code\",    \n",
    "    batch_size=32,\n",
    "    shuffle=False,\n",
    "    class_mode=None, \n",
    "    target_size=(96,96)\n",
    ")"
   ]
  },
  {
   "cell_type": "code",
   "execution_count": 33,
   "metadata": {},
   "outputs": [],
   "source": [
    "predictions = model.predict_generator(submission,steps = len(submission))"
   ]
  },
  {
   "cell_type": "code",
   "execution_count": 36,
   "metadata": {},
   "outputs": [],
   "source": [
    "prob = np.argmax(predictions,axis=1)"
   ]
  },
  {
   "cell_type": "code",
   "execution_count": 37,
   "metadata": {},
   "outputs": [],
   "source": [
    "test['diagnosis'] = prob"
   ]
  },
  {
   "cell_type": "code",
   "execution_count": 38,
   "metadata": {},
   "outputs": [],
   "source": [
    "test.to_csv('aptos_blindness_detection.csv',index=False)"
   ]
  },
  {
   "cell_type": "code",
   "execution_count": null,
   "metadata": {},
   "outputs": [],
   "source": []
  }
 ],
 "metadata": {
  "kernelspec": {
   "display_name": "Python 3",
   "language": "python",
   "name": "python3"
  },
  "language_info": {
   "codemirror_mode": {
    "name": "ipython",
    "version": 3
   },
   "file_extension": ".py",
   "mimetype": "text/x-python",
   "name": "python",
   "nbconvert_exporter": "python",
   "pygments_lexer": "ipython3",
   "version": "3.6.8"
  }
 },
 "nbformat": 4,
 "nbformat_minor": 1
}
